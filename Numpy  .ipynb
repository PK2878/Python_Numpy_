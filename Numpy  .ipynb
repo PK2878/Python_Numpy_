{
 "cells": [
  {
   "cell_type": "code",
   "execution_count": 16,
   "id": "345b8c18",
   "metadata": {},
   "outputs": [],
   "source": [
    "#Installation of Numpy\n",
    "#!pip install numpy"
   ]
  },
  {
   "cell_type": "code",
   "execution_count": 17,
   "id": "b3c793c7",
   "metadata": {},
   "outputs": [],
   "source": [
    "import numpy as np"
   ]
  },
  {
   "cell_type": "code",
   "execution_count": 19,
   "id": "f6f30fe7",
   "metadata": {},
   "outputs": [],
   "source": [
    "#! Conda list"
   ]
  },
  {
   "cell_type": "code",
   "execution_count": 20,
   "id": "e2f265a2",
   "metadata": {},
   "outputs": [
    {
     "name": "stdout",
     "output_type": "stream",
     "text": [
      "100\n"
     ]
    }
   ],
   "source": [
    "a = np.array(100)\n",
    "print (a)"
   ]
  },
  {
   "cell_type": "code",
   "execution_count": 21,
   "id": "b06ce018",
   "metadata": {},
   "outputs": [
    {
     "name": "stdout",
     "output_type": "stream",
     "text": [
      "<class 'numpy.ndarray'>\n",
      "100\n"
     ]
    }
   ],
   "source": [
    "# creating a scalar value \n",
    "a = np.array(100)\n",
    "print (type(a))\n",
    "print (a)"
   ]
  },
  {
   "cell_type": "code",
   "execution_count": 22,
   "id": "a31f01ee",
   "metadata": {},
   "outputs": [
    {
     "name": "stdout",
     "output_type": "stream",
     "text": [
      "<class 'numpy.ndarray'>\n"
     ]
    },
    {
     "data": {
      "text/plain": [
       "array([1, 2, 3, 4, 5])"
      ]
     },
     "execution_count": 22,
     "metadata": {},
     "output_type": "execute_result"
    }
   ],
   "source": [
    "# creating a vector value \n",
    "b = np.array([1,2,3,4,5])\n",
    "print (type(b))\n",
    "b"
   ]
  },
  {
   "cell_type": "code",
   "execution_count": 24,
   "id": "b75c8da9",
   "metadata": {},
   "outputs": [
    {
     "name": "stdout",
     "output_type": "stream",
     "text": [
      "[[1 2 3]\n",
      " [4 5 6]]\n",
      "<class 'numpy.matrix'>\n"
     ]
    },
    {
     "data": {
      "text/plain": [
       "2"
      ]
     },
     "execution_count": 24,
     "metadata": {},
     "output_type": "execute_result"
    }
   ],
   "source": [
    "# Creating a matrix \n",
    "m = np.matrix([[1,2,3],[4,5,6]])\n",
    "print (m)\n",
    "print (type(m))\n",
    "m.ndim"
   ]
  },
  {
   "cell_type": "code",
   "execution_count": 25,
   "id": "d829b03a",
   "metadata": {},
   "outputs": [
    {
     "name": "stdout",
     "output_type": "stream",
     "text": [
      "<class 'numpy.ndarray'>\n",
      "[[10 20 30]\n",
      " [40 50 60]]\n"
     ]
    },
    {
     "data": {
      "text/plain": [
       "2"
      ]
     },
     "execution_count": 25,
     "metadata": {},
     "output_type": "execute_result"
    }
   ],
   "source": [
    "# Creating a 3 dimensional array \n",
    "a = np.array ([[10,20,30],[40,50,60]])\n",
    "print (type(a))\n",
    "print (a)\n",
    "a.ndim"
   ]
  },
  {
   "cell_type": "code",
   "execution_count": 26,
   "id": "efe79d18",
   "metadata": {},
   "outputs": [
    {
     "name": "stdout",
     "output_type": "stream",
     "text": [
      "[[[11 12 13]\n",
      "  [32 33 31]\n",
      "  [45 58 69]]]\n",
      "<class 'numpy.ndarray'>\n"
     ]
    },
    {
     "data": {
      "text/plain": [
       "3"
      ]
     },
     "execution_count": 26,
     "metadata": {},
     "output_type": "execute_result"
    }
   ],
   "source": [
    "# Creating a 3 dimensional Array \n",
    "e = np.array([[[11,12,13],[32,33,31],[45,58,69]]])\n",
    "print (e)\n",
    "print (type (e))\n",
    "e.ndim"
   ]
  },
  {
   "cell_type": "markdown",
   "id": "7b21b096",
   "metadata": {},
   "source": [
    "# Different ways to create the Array"
   ]
  },
  {
   "cell_type": "code",
   "execution_count": 28,
   "id": "36f1c867",
   "metadata": {},
   "outputs": [
    {
     "data": {
      "text/plain": [
       "array([[10, 10],\n",
       "       [10, 10],\n",
       "       [10, 10]])"
      ]
     },
     "execution_count": 28,
     "metadata": {},
     "output_type": "execute_result"
    }
   ],
   "source": [
    "#1) Creating an arrays with Zeros \n",
    "a = np.full((3,2),10)\n",
    "a\n",
    "#3 -> Rows, 2-> Colums 10-> Values inside the matrix "
   ]
  },
  {
   "cell_type": "code",
   "execution_count": 29,
   "id": "09337092",
   "metadata": {},
   "outputs": [
    {
     "data": {
      "text/plain": [
       "array([[1, 1, 1, 1],\n",
       "       [1, 1, 1, 1],\n",
       "       [1, 1, 1, 1],\n",
       "       [1, 1, 1, 1]])"
      ]
     },
     "execution_count": 29,
     "metadata": {},
     "output_type": "execute_result"
    }
   ],
   "source": [
    "#2) Creating an arrays with ones \n",
    "b = np.full((4,4),1)\n",
    "b"
   ]
  },
  {
   "cell_type": "code",
   "execution_count": 30,
   "id": "a16a2fc7",
   "metadata": {},
   "outputs": [
    {
     "data": {
      "text/plain": [
       "array([[0, 0, 0, 0, 0],\n",
       "       [0, 0, 0, 0, 0],\n",
       "       [0, 0, 0, 0, 0],\n",
       "       [0, 0, 0, 0, 0],\n",
       "       [0, 0, 0, 0, 0]])"
      ]
     },
     "execution_count": 30,
     "metadata": {},
     "output_type": "execute_result"
    }
   ],
   "source": [
    "#3) Creating a Null matrix\n",
    "c = np.full((5,5),0)\n",
    "c"
   ]
  },
  {
   "cell_type": "code",
   "execution_count": 31,
   "id": "9f285642",
   "metadata": {},
   "outputs": [
    {
     "name": "stdout",
     "output_type": "stream",
     "text": [
      "[[1 0 0 0]\n",
      " [0 1 0 0]\n",
      " [0 0 1 0]\n",
      " [0 0 0 1]]\n"
     ]
    }
   ],
   "source": [
    "#4) Creating a Identity matrix \n",
    "d = np.eye(4,4, dtype =\"int\")\n",
    "print (d)"
   ]
  },
  {
   "cell_type": "code",
   "execution_count": 32,
   "id": "18333848",
   "metadata": {},
   "outputs": [
    {
     "ename": "SyntaxError",
     "evalue": "invalid syntax (2353414099.py, line 2)",
     "output_type": "error",
     "traceback": [
      "\u001b[1;36m  Input \u001b[1;32mIn [32]\u001b[1;36m\u001b[0m\n\u001b[1;33m    a1 = np.random Sample ((2,2))\u001b[0m\n\u001b[1;37m                   ^\u001b[0m\n\u001b[1;31mSyntaxError\u001b[0m\u001b[1;31m:\u001b[0m invalid syntax\n"
     ]
    }
   ],
   "source": [
    "#5 ) Creating an array through randomly\n",
    "a1 = np.random Sample ((2,2))\n",
    "print (a1)\n",
    "# Because the random sample do not accepts the shape as an argument."
   ]
  },
  {
   "cell_type": "code",
   "execution_count": 33,
   "id": "85d25b6d",
   "metadata": {},
   "outputs": [
    {
     "name": "stdout",
     "output_type": "stream",
     "text": [
      "[[0.42117842 0.39511281]\n",
      " [0.26940927 0.80075152]]\n"
     ]
    }
   ],
   "source": [
    "#5 ) Creating an array through randomly\n",
    "a2 = np.random.rand(2,2)\n",
    "print (a2)"
   ]
  },
  {
   "cell_type": "code",
   "execution_count": 37,
   "id": "6115cf6b",
   "metadata": {},
   "outputs": [
    {
     "data": {
      "text/plain": [
       "array([[33, 34, 10, 37, 93],\n",
       "       [96, 17, 69, 62, 46],\n",
       "       [65, 96, 80, 43, 55]])"
      ]
     },
     "execution_count": 37,
     "metadata": {},
     "output_type": "execute_result"
    }
   ],
   "source": [
    "np.random.randint(10,100,(3,5))\n",
    "#10-> Start 100-> Upto and (3,5)-> Matrix "
   ]
  },
  {
   "cell_type": "code",
   "execution_count": 39,
   "id": "9f60f5d0",
   "metadata": {},
   "outputs": [
    {
     "data": {
      "text/plain": [
       "array([[98.5354249 , 17.98172441, 90.06674076, 20.72497743],\n",
       "       [70.54897033, 16.43582447, 14.60206773, 74.6916459 ],\n",
       "       [53.33972739, 59.57261139, 93.79002136, 74.06819236]])"
      ]
     },
     "execution_count": 39,
     "metadata": {},
     "output_type": "execute_result"
    }
   ],
   "source": [
    "# Creating an array with numbers with decimals places \n",
    "np.random.randint(10,100,(3,4)) + np.random.sample((3,4))"
   ]
  },
  {
   "cell_type": "code",
   "execution_count": 40,
   "id": "3ffda6e3",
   "metadata": {},
   "outputs": [
    {
     "data": {
      "text/plain": [
       "array([[0.01, 0.05, 0.68, 0.59, 0.5 ],\n",
       "       [0.62, 0.26, 0.29, 0.84, 0.38],\n",
       "       [0.41, 0.89, 0.54, 0.45, 0.51],\n",
       "       [0.91, 0.98, 0.02, 0.01, 0.51]])"
      ]
     },
     "execution_count": 40,
     "metadata": {},
     "output_type": "execute_result"
    }
   ],
   "source": [
    "# Creating an array with numbers with only 2 decimal places \n",
    "random_array = np.random.rand(4, 5).round(2)\n",
    "random_array"
   ]
  },
  {
   "cell_type": "code",
   "execution_count": 41,
   "id": "8c872109",
   "metadata": {},
   "outputs": [
    {
     "data": {
      "text/plain": [
       "[11, 12, 13, 14, 15, 16, 17, 18, 19, 20, 21, 22, 23, 24, 25]"
      ]
     },
     "execution_count": 41,
     "metadata": {},
     "output_type": "execute_result"
    }
   ],
   "source": [
    "list (range(11,26))\n",
    "#Default Interval value will be 1. It will not consider the final value. "
   ]
  },
  {
   "cell_type": "code",
   "execution_count": 42,
   "id": "aba74c24",
   "metadata": {},
   "outputs": [
    {
     "data": {
      "text/plain": [
       "[10, 15, 20, 25, 30, 35, 40, 45, 50, 55, 60, 65, 70, 75, 80, 85, 90, 95]"
      ]
     },
     "execution_count": 42,
     "metadata": {},
     "output_type": "execute_result"
    }
   ],
   "source": [
    "# list (range (10,100,5)) --> (Start, End, Interval)\n",
    "list (range (10,100,5))"
   ]
  },
  {
   "cell_type": "code",
   "execution_count": 43,
   "id": "0407f17f",
   "metadata": {},
   "outputs": [
    {
     "data": {
      "text/plain": [
       "array([10, 11, 12, 13, 14, 15, 16, 17, 18, 19, 20, 21, 22, 23, 24])"
      ]
     },
     "execution_count": 43,
     "metadata": {},
     "output_type": "execute_result"
    }
   ],
   "source": [
    "# 1D array\n",
    "np.arange (10,25)"
   ]
  },
  {
   "cell_type": "code",
   "execution_count": 45,
   "id": "ff717689",
   "metadata": {},
   "outputs": [
    {
     "data": {
      "text/plain": [
       "array([ 0,  1,  2,  3,  4,  5,  6,  7,  8,  9, 10, 11, 12, 13, 14])"
      ]
     },
     "execution_count": 45,
     "metadata": {},
     "output_type": "execute_result"
    }
   ],
   "source": [
    "# 2D array \n",
    "np.arange (15)"
   ]
  },
  {
   "cell_type": "code",
   "execution_count": 46,
   "id": "2fbeccfa",
   "metadata": {},
   "outputs": [
    {
     "data": {
      "text/plain": [
       "array([[ 0,  1,  2,  3,  4],\n",
       "       [ 5,  6,  7,  8,  9],\n",
       "       [10, 11, 12, 13, 14]])"
      ]
     },
     "execution_count": 46,
     "metadata": {},
     "output_type": "execute_result"
    }
   ],
   "source": [
    "# 2D array -> Reshaping \n",
    "np.arange (15).reshape ((3,5))"
   ]
  },
  {
   "cell_type": "code",
   "execution_count": 48,
   "id": "c9dfc2e5",
   "metadata": {},
   "outputs": [
    {
     "data": {
      "text/plain": [
       "array([[10, 15, 20, 25, 30, 35],\n",
       "       [40, 45, 50, 55, 60, 65],\n",
       "       [70, 75, 80, 85, 90, 95]])"
      ]
     },
     "execution_count": 48,
     "metadata": {},
     "output_type": "execute_result"
    }
   ],
   "source": [
    "np.arange (10,100,5).reshape ((3,6))\n",
    "#10-> Start 100-> End (3,6) -> Matrix"
   ]
  },
  {
   "cell_type": "code",
   "execution_count": 50,
   "id": "b69361bf",
   "metadata": {},
   "outputs": [
    {
     "data": {
      "text/plain": [
       "array([[10, 15, 20, 25],\n",
       "       [30, 35, 40, 45]])"
      ]
     },
     "execution_count": 50,
     "metadata": {},
     "output_type": "execute_result"
    }
   ],
   "source": [
    "np.arange (10,50,5).reshape((2,4))"
   ]
  },
  {
   "cell_type": "code",
   "execution_count": 51,
   "id": "43693e60",
   "metadata": {},
   "outputs": [
    {
     "data": {
      "text/plain": [
       "array([[10, 26, 42],\n",
       "       [14, 30, 46],\n",
       "       [18, 34, 50],\n",
       "       [22, 38, 54]])"
      ]
     },
     "execution_count": 51,
     "metadata": {},
     "output_type": "execute_result"
    }
   ],
   "source": [
    "# We can do the transpose of the matrix here..\n",
    "np.arange (10,56,4).reshape((3,4)).T\n",
    "# It will convert the matrix from 3*4 to 4*3"
   ]
  },
  {
   "cell_type": "code",
   "execution_count": 53,
   "id": "4a2d03a5",
   "metadata": {},
   "outputs": [
    {
     "data": {
      "text/plain": [
       "array([[10, 14, 18, 22],\n",
       "       [26, 30, 34, 38],\n",
       "       [42, 46, 50, 54]])"
      ]
     },
     "execution_count": 53,
     "metadata": {},
     "output_type": "execute_result"
    }
   ],
   "source": [
    "np.arange (10,56,4).reshape((3,4))\n",
    "# It will convert the matrix from 3*4 to 4*3"
   ]
  },
  {
   "cell_type": "markdown",
   "id": "345bab5d",
   "metadata": {},
   "source": [
    "# Creating an array using the Linspace "
   ]
  },
  {
   "cell_type": "code",
   "execution_count": 56,
   "id": "f2ae5c4c",
   "metadata": {},
   "outputs": [
    {
     "data": {
      "text/plain": [
       "array([ 1.,  4.,  7., 10.])"
      ]
     },
     "execution_count": 56,
     "metadata": {},
     "output_type": "execute_result"
    }
   ],
   "source": [
    "# np.linspace (1,10,4) --> (Start, End, How Many)\n",
    "# It will give the Start value, End Values, How many values need to fill between the range of values.\n",
    "np.linspace (1,10,4)"
   ]
  },
  {
   "cell_type": "code",
   "execution_count": 57,
   "id": "743ea1c1",
   "metadata": {},
   "outputs": [
    {
     "data": {
      "text/plain": [
       "array([ 1,  4,  7, 10])"
      ]
     },
     "execution_count": 57,
     "metadata": {},
     "output_type": "execute_result"
    }
   ],
   "source": [
    "#Linspace with only integer values\n",
    "np.linspace (1,10,4, dtype=\"int\")"
   ]
  },
  {
   "cell_type": "code",
   "execution_count": 58,
   "id": "cd46eb6a",
   "metadata": {},
   "outputs": [
    {
     "data": {
      "text/plain": [
       "array([ 1. ,  2.8,  4.6,  6.4,  8.2, 10. ])"
      ]
     },
     "execution_count": 58,
     "metadata": {},
     "output_type": "execute_result"
    }
   ],
   "source": [
    "np.linspace (1,10,6)"
   ]
  },
  {
   "cell_type": "code",
   "execution_count": 59,
   "id": "1cf93000",
   "metadata": {},
   "outputs": [
    {
     "data": {
      "text/plain": [
       "array([ 10., 100.])"
      ]
     },
     "execution_count": 59,
     "metadata": {},
     "output_type": "execute_result"
    }
   ],
   "source": [
    "np.linspace (10,100, 2)"
   ]
  },
  {
   "cell_type": "code",
   "execution_count": 60,
   "id": "8ea5ce3f",
   "metadata": {},
   "outputs": [
    {
     "data": {
      "text/plain": [
       "array([10.])"
      ]
     },
     "execution_count": 60,
     "metadata": {},
     "output_type": "execute_result"
    }
   ],
   "source": [
    "np.linspace (10,10,1)"
   ]
  },
  {
   "cell_type": "markdown",
   "id": "6e0b76b4",
   "metadata": {},
   "source": [
    "# Indexing and Slicing "
   ]
  },
  {
   "cell_type": "code",
   "execution_count": 61,
   "id": "63c65931",
   "metadata": {},
   "outputs": [
    {
     "data": {
      "text/plain": [
       "array([[92, 14, 36, 78, 22],\n",
       "       [34, 47, 45, 26, 20],\n",
       "       [46, 49, 26, 51, 84],\n",
       "       [18, 88, 69, 99, 41],\n",
       "       [39, 62, 63, 89, 67]])"
      ]
     },
     "execution_count": 61,
     "metadata": {},
     "output_type": "execute_result"
    }
   ],
   "source": [
    "a = np.random.randint(10,100,(5,5))\n",
    "a"
   ]
  },
  {
   "cell_type": "code",
   "execution_count": 62,
   "id": "3d703ed2",
   "metadata": {},
   "outputs": [
    {
     "data": {
      "text/plain": [
       "array([92, 14, 36, 78, 22])"
      ]
     },
     "execution_count": 62,
     "metadata": {},
     "output_type": "execute_result"
    }
   ],
   "source": [
    "a[0]"
   ]
  },
  {
   "cell_type": "code",
   "execution_count": 63,
   "id": "5d6c759a",
   "metadata": {},
   "outputs": [
    {
     "data": {
      "text/plain": [
       "array([46, 49, 26, 51, 84])"
      ]
     },
     "execution_count": 63,
     "metadata": {},
     "output_type": "execute_result"
    }
   ],
   "source": [
    "a[2]"
   ]
  },
  {
   "cell_type": "code",
   "execution_count": 64,
   "id": "a9ecc403",
   "metadata": {},
   "outputs": [
    {
     "data": {
      "text/plain": [
       "[1, 2, 3, 4, 5, 6, 7, 8, 9]"
      ]
     },
     "execution_count": 64,
     "metadata": {},
     "output_type": "execute_result"
    }
   ],
   "source": [
    "l = list (range(1,10))\n",
    "l"
   ]
  },
  {
   "cell_type": "code",
   "execution_count": 65,
   "id": "66ee78a3",
   "metadata": {},
   "outputs": [
    {
     "data": {
      "text/plain": [
       "9"
      ]
     },
     "execution_count": 65,
     "metadata": {},
     "output_type": "execute_result"
    }
   ],
   "source": [
    "l[8]"
   ]
  },
  {
   "cell_type": "code",
   "execution_count": 66,
   "id": "453fa114",
   "metadata": {},
   "outputs": [
    {
     "data": {
      "text/plain": [
       "4"
      ]
     },
     "execution_count": 66,
     "metadata": {},
     "output_type": "execute_result"
    }
   ],
   "source": [
    " l [3]"
   ]
  },
  {
   "cell_type": "code",
   "execution_count": 67,
   "id": "1c75e901",
   "metadata": {},
   "outputs": [
    {
     "data": {
      "text/plain": [
       "array([[92, 14, 36, 78, 22],\n",
       "       [34, 47, 45, 26, 20],\n",
       "       [46, 49, 26, 51, 84],\n",
       "       [18, 88, 69, 99, 41],\n",
       "       [39, 62, 63, 89, 67]])"
      ]
     },
     "execution_count": 67,
     "metadata": {},
     "output_type": "execute_result"
    }
   ],
   "source": [
    "# ALL THE ROWS and COLUMNS \n",
    "a [:,:]"
   ]
  },
  {
   "cell_type": "code",
   "execution_count": 68,
   "id": "23262ac1",
   "metadata": {},
   "outputs": [],
   "source": [
    "# a [:,:] --> [Start row : End row, Start column : End Columns]"
   ]
  },
  {
   "cell_type": "code",
   "execution_count": 70,
   "id": "15f681c5",
   "metadata": {},
   "outputs": [
    {
     "data": {
      "text/plain": [
       "array([[92, 14, 36, 78, 22],\n",
       "       [34, 47, 45, 26, 20],\n",
       "       [46, 49, 26, 51, 84],\n",
       "       [18, 88, 69, 99, 41],\n",
       "       [39, 62, 63, 89, 67]])"
      ]
     },
     "execution_count": 70,
     "metadata": {},
     "output_type": "execute_result"
    }
   ],
   "source": [
    "a"
   ]
  },
  {
   "cell_type": "code",
   "execution_count": 69,
   "id": "6650abeb",
   "metadata": {},
   "outputs": [
    {
     "data": {
      "text/plain": [
       "array([92, 34, 46, 18, 39])"
      ]
     },
     "execution_count": 69,
     "metadata": {},
     "output_type": "execute_result"
    }
   ],
   "source": [
    "# 1) Accesing the entire first column.\n",
    "a [:,0]"
   ]
  },
  {
   "cell_type": "code",
   "execution_count": 71,
   "id": "696c0996",
   "metadata": {},
   "outputs": [
    {
     "data": {
      "text/plain": [
       "array([78, 26, 51, 99, 89])"
      ]
     },
     "execution_count": 71,
     "metadata": {},
     "output_type": "execute_result"
    }
   ],
   "source": [
    "# 2) Accesing the entire fourth column.\n",
    "a [:, 3]"
   ]
  },
  {
   "cell_type": "code",
   "execution_count": 72,
   "id": "68fe735f",
   "metadata": {},
   "outputs": [
    {
     "data": {
      "text/plain": [
       "array([[18, 88, 69, 99, 41],\n",
       "       [39, 62, 63, 89, 67]])"
      ]
     },
     "execution_count": 72,
     "metadata": {},
     "output_type": "execute_result"
    }
   ],
   "source": [
    "# 3) Accesing the entire second row.\n",
    "a [3:,:]"
   ]
  },
  {
   "cell_type": "code",
   "execution_count": 73,
   "id": "2f43bf86",
   "metadata": {},
   "outputs": [
    {
     "data": {
      "text/plain": [
       "array([[34, 47, 45, 26, 20],\n",
       "       [46, 49, 26, 51, 84],\n",
       "       [18, 88, 69, 99, 41],\n",
       "       [39, 62, 63, 89, 67]])"
      ]
     },
     "execution_count": 73,
     "metadata": {},
     "output_type": "execute_result"
    }
   ],
   "source": [
    "# 4) Fetch everything from 1St row \n",
    "a [1:,:]"
   ]
  },
  {
   "cell_type": "code",
   "execution_count": 80,
   "id": "d662dc16",
   "metadata": {},
   "outputs": [
    {
     "data": {
      "text/plain": [
       "array([[36, 78, 22],\n",
       "       [45, 26, 20],\n",
       "       [26, 51, 84],\n",
       "       [69, 99, 41],\n",
       "       [63, 89, 67]])"
      ]
     },
     "execution_count": 80,
     "metadata": {},
     "output_type": "execute_result"
    }
   ],
   "source": [
    "# 5) Fetch everything from 2nd column \n",
    "a [:,2:]"
   ]
  },
  {
   "cell_type": "code",
   "execution_count": 82,
   "id": "7cd57df6",
   "metadata": {},
   "outputs": [
    {
     "data": {
      "text/plain": [
       "array([[26, 20],\n",
       "       [51, 84],\n",
       "       [99, 41],\n",
       "       [89, 67]])"
      ]
     },
     "execution_count": 82,
     "metadata": {},
     "output_type": "execute_result"
    }
   ],
   "source": [
    "# 6) fetch everything from the 1st Row and 3rd Column \n",
    "a [1:, 3:]"
   ]
  },
  {
   "cell_type": "code",
   "execution_count": 76,
   "id": "1b970a62",
   "metadata": {},
   "outputs": [
    {
     "data": {
      "text/plain": [
       "array([[34, 47],\n",
       "       [46, 49],\n",
       "       [18, 88],\n",
       "       [39, 62]])"
      ]
     },
     "execution_count": 76,
     "metadata": {},
     "output_type": "execute_result"
    }
   ],
   "source": [
    "# 7) Fetch values from the 1st row and till the 2nd column \n",
    "a [1:,:2]"
   ]
  },
  {
   "cell_type": "code",
   "execution_count": 86,
   "id": "bc801f44",
   "metadata": {},
   "outputs": [
    {
     "data": {
      "text/plain": [
       "array([[46, 49, 26],\n",
       "       [18, 88, 69],\n",
       "       [39, 62, 63]])"
      ]
     },
     "execution_count": 86,
     "metadata": {},
     "output_type": "execute_result"
    }
   ],
   "source": [
    "# 8) Fetch values from the 2nd row and till the 3rd column \n",
    "a [2:,:3]"
   ]
  },
  {
   "cell_type": "code",
   "execution_count": 87,
   "id": "fdb05d52",
   "metadata": {},
   "outputs": [
    {
     "data": {
      "text/plain": [
       "array([[34, 47, 45],\n",
       "       [46, 49, 26],\n",
       "       [18, 88, 69],\n",
       "       [39, 62, 63]])"
      ]
     },
     "execution_count": 87,
     "metadata": {},
     "output_type": "execute_result"
    }
   ],
   "source": [
    "# 9) Fetch the value from the 1st row and only 3rd column \n",
    "a [1:, :3]"
   ]
  },
  {
   "cell_type": "markdown",
   "id": "73308d90",
   "metadata": {},
   "source": [
    "# NON-SEQUENTIAL VALUES..\n"
   ]
  },
  {
   "cell_type": "code",
   "execution_count": 83,
   "id": "66cfecff",
   "metadata": {},
   "outputs": [
    {
     "data": {
      "text/plain": [
       "array([[92, 14, 36, 78, 22],\n",
       "       [34, 47, 45, 26, 20],\n",
       "       [46, 49, 26, 51, 84],\n",
       "       [18, 88, 69, 99, 41],\n",
       "       [39, 62, 63, 89, 67]])"
      ]
     },
     "execution_count": 83,
     "metadata": {},
     "output_type": "execute_result"
    }
   ],
   "source": [
    "a"
   ]
  },
  {
   "cell_type": "code",
   "execution_count": 88,
   "id": "75815d7f",
   "metadata": {},
   "outputs": [
    {
     "data": {
      "text/plain": [
       "array([[92, 14, 36, 78, 22],\n",
       "       [46, 49, 26, 51, 84]])"
      ]
     },
     "execution_count": 88,
     "metadata": {},
     "output_type": "execute_result"
    }
   ],
   "source": [
    "# 10) Fetching the values from the 0th&2nd Row and from all the columns \n",
    "a [[0,2], :]"
   ]
  },
  {
   "cell_type": "code",
   "execution_count": 89,
   "id": "04d92640",
   "metadata": {},
   "outputs": [
    {
     "data": {
      "text/plain": [
       "array([14, 51])"
      ]
     },
     "execution_count": 89,
     "metadata": {},
     "output_type": "execute_result"
    }
   ],
   "source": [
    "# 11) Fetching the values from the 0&2nd Row and of 1st and 3rd columns\n",
    "a [[0,2],[1,3]]"
   ]
  },
  {
   "cell_type": "code",
   "execution_count": 90,
   "id": "a5d64f28",
   "metadata": {},
   "outputs": [
    {
     "data": {
      "text/plain": [
       "array([45, 84])"
      ]
     },
     "execution_count": 90,
     "metadata": {},
     "output_type": "execute_result"
    }
   ],
   "source": [
    "# 12) Fetching the values from the 1st&3rd Row and 2nd&4th columns\n",
    "a [[1,2], [2,4]]"
   ]
  },
  {
   "cell_type": "code",
   "execution_count": 91,
   "id": "edd661ca",
   "metadata": {},
   "outputs": [
    {
     "data": {
      "text/plain": [
       "array([14, 84])"
      ]
     },
     "execution_count": 91,
     "metadata": {},
     "output_type": "execute_result"
    }
   ],
   "source": [
    "# 13) Fetching the values from the 0&2 rows and 1&4 columns\n",
    "a [[0,2],[1,4]]"
   ]
  },
  {
   "cell_type": "code",
   "execution_count": 92,
   "id": "c0237e63",
   "metadata": {},
   "outputs": [
    {
     "data": {
      "text/plain": [
       "array([[92, 14, 36, 78, 22],\n",
       "       [34, 47, 45, 26, 20],\n",
       "       [46, 49, 26, 51, 84],\n",
       "       [18, 88, 69, 99, 41],\n",
       "       [39, 62, 63, 89, 67]])"
      ]
     },
     "execution_count": 92,
     "metadata": {},
     "output_type": "execute_result"
    }
   ],
   "source": [
    "# 14) Fetching the values from the all the rows and all the columns\n",
    "a [:,:]"
   ]
  },
  {
   "cell_type": "markdown",
   "id": "372654b4",
   "metadata": {},
   "source": [
    "# Boolean Indexing "
   ]
  },
  {
   "cell_type": "code",
   "execution_count": 93,
   "id": "315349ac",
   "metadata": {},
   "outputs": [
    {
     "data": {
      "text/plain": [
       "array([[94, 44, 80, 56, 78],\n",
       "       [44, 99, 61, 29, 53],\n",
       "       [26, 87, 30, 88, 19],\n",
       "       [59, 74, 56, 61, 81]])"
      ]
     },
     "execution_count": 93,
     "metadata": {},
     "output_type": "execute_result"
    }
   ],
   "source": [
    "a = np.random.randint (10,100,(4,5))\n",
    "a"
   ]
  },
  {
   "cell_type": "code",
   "execution_count": 94,
   "id": "393854ea",
   "metadata": {},
   "outputs": [
    {
     "data": {
      "text/plain": [
       "array([[ True, False, False, False, False],\n",
       "       [False,  True, False, False, False],\n",
       "       [False,  True, False,  True, False],\n",
       "       [False, False, False, False,  True]])"
      ]
     },
     "execution_count": 94,
     "metadata": {},
     "output_type": "execute_result"
    }
   ],
   "source": [
    "a > 80"
   ]
  },
  {
   "cell_type": "code",
   "execution_count": 95,
   "id": "06146e6e",
   "metadata": {},
   "outputs": [
    {
     "data": {
      "text/plain": [
       "array([94, 80, 78, 99, 87, 88, 74, 81])"
      ]
     },
     "execution_count": 95,
     "metadata": {},
     "output_type": "execute_result"
    }
   ],
   "source": [
    "a [a>70]"
   ]
  },
  {
   "cell_type": "code",
   "execution_count": 96,
   "id": "540ad313",
   "metadata": {},
   "outputs": [
    {
     "data": {
      "text/plain": [
       "True"
      ]
     },
     "execution_count": 96,
     "metadata": {},
     "output_type": "execute_result"
    }
   ],
   "source": [
    "a [2,3] >0"
   ]
  },
  {
   "cell_type": "code",
   "execution_count": 97,
   "id": "0d102aed",
   "metadata": {},
   "outputs": [
    {
     "data": {
      "text/plain": [
       "True"
      ]
     },
     "execution_count": 97,
     "metadata": {},
     "output_type": "execute_result"
    }
   ],
   "source": [
    "a [3,4] >20"
   ]
  },
  {
   "cell_type": "code",
   "execution_count": 98,
   "id": "a496262e",
   "metadata": {},
   "outputs": [
    {
     "data": {
      "text/plain": [
       "array([80, 56, 78, 61, 53, 87, 88, 59, 74, 56, 61, 81])"
      ]
     },
     "execution_count": 98,
     "metadata": {},
     "output_type": "execute_result"
    }
   ],
   "source": [
    "# Generating the values based on the multiple conditions \n",
    "a [(a>=50) & (a<= 90)]"
   ]
  },
  {
   "cell_type": "code",
   "execution_count": 99,
   "id": "8b152155",
   "metadata": {},
   "outputs": [
    {
     "data": {
      "text/plain": [
       "array([94, 44, 80, 56, 78, 44, 99, 61, 29, 53, 26, 87, 30, 88, 19, 59, 74,\n",
       "       56, 61, 81])"
      ]
     },
     "execution_count": 99,
     "metadata": {},
     "output_type": "execute_result"
    }
   ],
   "source": [
    "a [(a>60) | (a<90)]"
   ]
  },
  {
   "cell_type": "markdown",
   "id": "717a7a3e",
   "metadata": {},
   "source": [
    "# Sorting "
   ]
  },
  {
   "cell_type": "code",
   "execution_count": 100,
   "id": "49f47007",
   "metadata": {},
   "outputs": [
    {
     "data": {
      "text/plain": [
       "[53, 56, 56, 59, 61, 61, 74, 78, 80, 81, 87, 88]"
      ]
     },
     "execution_count": 100,
     "metadata": {},
     "output_type": "execute_result"
    }
   ],
   "source": [
    "# Sorting is used to sort the data in a particular order\n",
    "sorted (a [(a>=50) & (a<= 90)])"
   ]
  },
  {
   "cell_type": "code",
   "execution_count": 101,
   "id": "8c6a6b81",
   "metadata": {},
   "outputs": [],
   "source": [
    "# By default, The sorting will be take from the Ascending order.."
   ]
  },
  {
   "cell_type": "code",
   "execution_count": 102,
   "id": "7647b3a0",
   "metadata": {},
   "outputs": [
    {
     "data": {
      "text/plain": [
       "[26, 30, 44, 44, 56, 56, 74, 78, 80, 88, 94]"
      ]
     },
     "execution_count": 102,
     "metadata": {},
     "output_type": "execute_result"
    }
   ],
   "source": [
    "sorted (a[a%2 == 0])\n",
    "# default it will be in the ascending order."
   ]
  },
  {
   "cell_type": "code",
   "execution_count": 105,
   "id": "a719fe9b",
   "metadata": {},
   "outputs": [
    {
     "data": {
      "text/plain": [
       "[94, 88, 80, 78, 74, 56, 56, 44, 44, 30, 26]"
      ]
     },
     "execution_count": 105,
     "metadata": {},
     "output_type": "execute_result"
    }
   ],
   "source": [
    "sorted (a[a%2 == 0], reverse= True)\n",
    "#reverse=True -> It will convert from ascending to descending order. "
   ]
  },
  {
   "cell_type": "code",
   "execution_count": 110,
   "id": "b6503691",
   "metadata": {},
   "outputs": [
    {
     "data": {
      "text/plain": [
       "array([[1, 0, 1, 1, 1],\n",
       "       [0, 1, 1, 0, 1],\n",
       "       [0, 1, 0, 1, 0],\n",
       "       [1, 1, 1, 1, 1]])"
      ]
     },
     "execution_count": 110,
     "metadata": {},
     "output_type": "execute_result"
    }
   ],
   "source": [
    "# Genearting the binaries from the Boolean\n",
    "np.multiply (a>50,1)"
   ]
  },
  {
   "cell_type": "code",
   "execution_count": 111,
   "id": "8e778fc1",
   "metadata": {},
   "outputs": [
    {
     "data": {
      "text/plain": [
       "array([[0, 1, 0, 0, 0],\n",
       "       [1, 0, 0, 1, 0],\n",
       "       [1, 0, 1, 0, 1],\n",
       "       [0, 0, 0, 0, 0]])"
      ]
     },
     "execution_count": 111,
     "metadata": {},
     "output_type": "execute_result"
    }
   ],
   "source": [
    "np.multiply (a<50,1)"
   ]
  },
  {
   "cell_type": "code",
   "execution_count": 112,
   "id": "50a6798c",
   "metadata": {},
   "outputs": [
    {
     "data": {
      "text/plain": [
       "array([10, 13, 16, 19, 22, 25, 28, 31, 35])"
      ]
     },
     "execution_count": 112,
     "metadata": {},
     "output_type": "execute_result"
    }
   ],
   "source": [
    "oned = np.linspace (10,35,9, dtype = \"int\")\n",
    "oned"
   ]
  },
  {
   "cell_type": "code",
   "execution_count": 113,
   "id": "4801dd39",
   "metadata": {},
   "outputs": [
    {
     "data": {
      "text/plain": [
       "array([[59, 59, 93, 55, 67],\n",
       "       [94, 79, 93, 43, 63],\n",
       "       [79, 30, 44, 12, 70],\n",
       "       [32, 12, 96, 42, 52]])"
      ]
     },
     "execution_count": 113,
     "metadata": {},
     "output_type": "execute_result"
    }
   ],
   "source": [
    "a = np.random.randint(10,100,(4,5))\n",
    "a"
   ]
  },
  {
   "cell_type": "code",
   "execution_count": 114,
   "id": "d1e72f27",
   "metadata": {},
   "outputs": [
    {
     "data": {
      "text/plain": [
       "(4, 5)"
      ]
     },
     "execution_count": 114,
     "metadata": {},
     "output_type": "execute_result"
    }
   ],
   "source": [
    "# To find the Shape of the matrix \n",
    "a.shape"
   ]
  },
  {
   "cell_type": "code",
   "execution_count": 115,
   "id": "9c436933",
   "metadata": {},
   "outputs": [
    {
     "data": {
      "text/plain": [
       "20"
      ]
     },
     "execution_count": 115,
     "metadata": {},
     "output_type": "execute_result"
    }
   ],
   "source": [
    "# To find the Size of the matrix \n",
    "a.size\n"
   ]
  },
  {
   "cell_type": "code",
   "execution_count": 116,
   "id": "c4d768e6",
   "metadata": {},
   "outputs": [
    {
     "data": {
      "text/plain": [
       "array([10, 13, 16, 19, 22, 25, 28, 31, 35])"
      ]
     },
     "execution_count": 116,
     "metadata": {},
     "output_type": "execute_result"
    }
   ],
   "source": [
    "oned"
   ]
  },
  {
   "cell_type": "code",
   "execution_count": 117,
   "id": "02f1aa49",
   "metadata": {},
   "outputs": [
    {
     "data": {
      "text/plain": [
       "array([20, 23, 26, 29, 32, 35, 38, 41, 45])"
      ]
     },
     "execution_count": 117,
     "metadata": {},
     "output_type": "execute_result"
    }
   ],
   "source": [
    "oned + 10 "
   ]
  },
  {
   "cell_type": "code",
   "execution_count": 118,
   "id": "77f99267",
   "metadata": {},
   "outputs": [
    {
     "data": {
      "text/plain": [
       "array([-2,  1,  4,  7, 10, 13, 16, 19, 23])"
      ]
     },
     "execution_count": 118,
     "metadata": {},
     "output_type": "execute_result"
    }
   ],
   "source": [
    "oned - 12 "
   ]
  },
  {
   "cell_type": "code",
   "execution_count": 119,
   "id": "1d498af2",
   "metadata": {},
   "outputs": [
    {
     "data": {
      "text/plain": [
       "array([120, 156, 192, 228, 264, 300, 336, 372, 420])"
      ]
     },
     "execution_count": 119,
     "metadata": {},
     "output_type": "execute_result"
    }
   ],
   "source": [
    "oned * 12 "
   ]
  },
  {
   "cell_type": "code",
   "execution_count": 120,
   "id": "654bca63",
   "metadata": {},
   "outputs": [
    {
     "data": {
      "text/plain": [
       "array([0.83333333, 1.08333333, 1.33333333, 1.58333333, 1.83333333,\n",
       "       2.08333333, 2.33333333, 2.58333333, 2.91666667])"
      ]
     },
     "execution_count": 120,
     "metadata": {},
     "output_type": "execute_result"
    }
   ],
   "source": [
    "oned /12 "
   ]
  },
  {
   "cell_type": "code",
   "execution_count": 121,
   "id": "b4cb9be3",
   "metadata": {},
   "outputs": [
    {
     "data": {
      "text/plain": [
       "array([ 5,  6,  8,  9, 11, 12, 14, 15, 17], dtype=int32)"
      ]
     },
     "execution_count": 121,
     "metadata": {},
     "output_type": "execute_result"
    }
   ],
   "source": [
    "oned //2 "
   ]
  },
  {
   "cell_type": "code",
   "execution_count": 122,
   "id": "7dbea166",
   "metadata": {},
   "outputs": [
    {
     "data": {
      "text/plain": [
       "array([ 100,  169,  256,  361,  484,  625,  784,  961, 1225], dtype=int32)"
      ]
     },
     "execution_count": 122,
     "metadata": {},
     "output_type": "execute_result"
    }
   ],
   "source": [
    "oned ** 2"
   ]
  },
  {
   "cell_type": "code",
   "execution_count": 123,
   "id": "e5598633",
   "metadata": {},
   "outputs": [
    {
     "data": {
      "text/plain": [
       "array([0, 1, 0, 1, 0, 1, 0, 1, 1], dtype=int32)"
      ]
     },
     "execution_count": 123,
     "metadata": {},
     "output_type": "execute_result"
    }
   ],
   "source": [
    "oned % 2 "
   ]
  },
  {
   "cell_type": "markdown",
   "id": "523b51df",
   "metadata": {},
   "source": [
    "# Aggregation Operations "
   ]
  },
  {
   "cell_type": "code",
   "execution_count": 124,
   "id": "eef9dfc2",
   "metadata": {},
   "outputs": [
    {
     "data": {
      "text/plain": [
       "array([10, 13, 16, 19, 22, 25, 28, 31, 35])"
      ]
     },
     "execution_count": 124,
     "metadata": {},
     "output_type": "execute_result"
    }
   ],
   "source": [
    "a = oned \n",
    "a"
   ]
  },
  {
   "cell_type": "code",
   "execution_count": 127,
   "id": "ad98b375",
   "metadata": {},
   "outputs": [
    {
     "data": {
      "text/plain": [
       "<function ndarray.sum>"
      ]
     },
     "execution_count": 127,
     "metadata": {},
     "output_type": "execute_result"
    }
   ],
   "source": [
    "a.sum"
   ]
  },
  {
   "cell_type": "code",
   "execution_count": 126,
   "id": "f8af47da",
   "metadata": {},
   "outputs": [
    {
     "data": {
      "text/plain": [
       "<function ndarray.mean>"
      ]
     },
     "execution_count": 126,
     "metadata": {},
     "output_type": "execute_result"
    }
   ],
   "source": [
    "oned.mean"
   ]
  },
  {
   "cell_type": "markdown",
   "id": "f43ef05f",
   "metadata": {},
   "source": [
    "# Axis-Wise Operations :\n"
   ]
  },
  {
   "cell_type": "code",
   "execution_count": 128,
   "id": "7c3a811d",
   "metadata": {},
   "outputs": [
    {
     "data": {
      "text/plain": [
       "array([[81, 87, 90, 13, 73],\n",
       "       [18, 69, 30, 66, 96],\n",
       "       [56, 86, 49, 74, 64],\n",
       "       [71, 46, 62, 92, 93]])"
      ]
     },
     "execution_count": 128,
     "metadata": {},
     "output_type": "execute_result"
    }
   ],
   "source": [
    "# Here Axis = 0 means Column ans Axis = 1 means Row \n",
    "array = np.random.randint(10,100,(4,5))\n",
    "array"
   ]
  },
  {
   "cell_type": "code",
   "execution_count": 130,
   "id": "7718292c",
   "metadata": {},
   "outputs": [
    {
     "data": {
      "text/plain": [
       "matrix([[81, 87, 90, 13, 73],\n",
       "        [18, 69, 30, 66, 96],\n",
       "        [56, 86, 49, 74, 64],\n",
       "        [71, 46, 62, 92, 93]])"
      ]
     },
     "execution_count": 130,
     "metadata": {},
     "output_type": "execute_result"
    }
   ],
   "source": [
    "mat = np.matrix(array)\n",
    "mat"
   ]
  },
  {
   "cell_type": "code",
   "execution_count": 131,
   "id": "f4a47c08",
   "metadata": {},
   "outputs": [
    {
     "data": {
      "text/plain": [
       "array([10, 13, 16, 19, 22, 25, 28, 31, 35])"
      ]
     },
     "execution_count": 131,
     "metadata": {},
     "output_type": "execute_result"
    }
   ],
   "source": [
    "vec = np.linspace(10,35,9,dtype = \"int\")\n",
    "vec"
   ]
  },
  {
   "cell_type": "code",
   "execution_count": 132,
   "id": "fd5bc8aa",
   "metadata": {},
   "outputs": [
    {
     "data": {
      "text/plain": [
       "array([-2,  1,  4,  7, 10, 13, 16, 19, 23])"
      ]
     },
     "execution_count": 132,
     "metadata": {},
     "output_type": "execute_result"
    }
   ],
   "source": [
    "vec -12 \n"
   ]
  },
  {
   "cell_type": "code",
   "execution_count": 133,
   "id": "a2e05226",
   "metadata": {},
   "outputs": [
    {
     "data": {
      "text/plain": [
       "matrix([[81, 87, 90, 13, 73],\n",
       "        [18, 69, 30, 66, 96],\n",
       "        [56, 86, 49, 74, 64],\n",
       "        [71, 46, 62, 92, 93]])"
      ]
     },
     "execution_count": 133,
     "metadata": {},
     "output_type": "execute_result"
    }
   ],
   "source": [
    "mat = np.matrix(array)\n",
    "mat"
   ]
  },
  {
   "cell_type": "code",
   "execution_count": 134,
   "id": "3b43aa60",
   "metadata": {},
   "outputs": [
    {
     "data": {
      "text/plain": [
       "matrix([[81, 87, 90, 13, 73],\n",
       "        [18, 69, 30, 66, 96],\n",
       "        [56, 86, 49, 74, 64],\n",
       "        [71, 46, 62, 92, 93]])"
      ]
     },
     "execution_count": 134,
     "metadata": {},
     "output_type": "execute_result"
    }
   ],
   "source": [
    "mat"
   ]
  },
  {
   "cell_type": "code",
   "execution_count": 135,
   "id": "3a047ad9",
   "metadata": {},
   "outputs": [
    {
     "data": {
      "text/plain": [
       "array([[81, 87, 90, 13, 73],\n",
       "       [18, 69, 30, 66, 96],\n",
       "       [56, 86, 49, 74, 64],\n",
       "       [71, 46, 62, 92, 93]])"
      ]
     },
     "execution_count": 135,
     "metadata": {},
     "output_type": "execute_result"
    }
   ],
   "source": [
    "array"
   ]
  },
  {
   "cell_type": "code",
   "execution_count": 136,
   "id": "e6495b18",
   "metadata": {},
   "outputs": [
    {
     "data": {
      "text/plain": [
       "199"
      ]
     },
     "execution_count": 136,
     "metadata": {},
     "output_type": "execute_result"
    }
   ],
   "source": [
    "vec.sum()"
   ]
  },
  {
   "cell_type": "code",
   "execution_count": 137,
   "id": "e1f92ed0",
   "metadata": {},
   "outputs": [
    {
     "data": {
      "text/plain": [
       "1316"
      ]
     },
     "execution_count": 137,
     "metadata": {},
     "output_type": "execute_result"
    }
   ],
   "source": [
    "mat.sum()"
   ]
  },
  {
   "cell_type": "code",
   "execution_count": 138,
   "id": "e6b5d4fa",
   "metadata": {},
   "outputs": [
    {
     "data": {
      "text/plain": [
       "1316"
      ]
     },
     "execution_count": 138,
     "metadata": {},
     "output_type": "execute_result"
    }
   ],
   "source": [
    "array.sum()"
   ]
  },
  {
   "cell_type": "code",
   "execution_count": 139,
   "id": "a7aac164",
   "metadata": {},
   "outputs": [
    {
     "data": {
      "text/plain": [
       "96"
      ]
     },
     "execution_count": 139,
     "metadata": {},
     "output_type": "execute_result"
    }
   ],
   "source": [
    "array.max()"
   ]
  },
  {
   "cell_type": "code",
   "execution_count": 140,
   "id": "49910140",
   "metadata": {},
   "outputs": [
    {
     "data": {
      "text/plain": [
       "13"
      ]
     },
     "execution_count": 140,
     "metadata": {},
     "output_type": "execute_result"
    }
   ],
   "source": [
    "array.min()"
   ]
  },
  {
   "cell_type": "code",
   "execution_count": 141,
   "id": "b6f0d8f4",
   "metadata": {},
   "outputs": [
    {
     "data": {
      "text/plain": [
       "20"
      ]
     },
     "execution_count": 141,
     "metadata": {},
     "output_type": "execute_result"
    }
   ],
   "source": [
    "array.size"
   ]
  },
  {
   "cell_type": "code",
   "execution_count": 142,
   "id": "1d735a96",
   "metadata": {},
   "outputs": [
    {
     "data": {
      "text/plain": [
       "65.8"
      ]
     },
     "execution_count": 142,
     "metadata": {},
     "output_type": "execute_result"
    }
   ],
   "source": [
    "array.mean()\n"
   ]
  },
  {
   "cell_type": "code",
   "execution_count": 143,
   "id": "06c4f75d",
   "metadata": {},
   "outputs": [
    {
     "data": {
      "text/plain": [
       "54.25"
      ]
     },
     "execution_count": 143,
     "metadata": {},
     "output_type": "execute_result"
    }
   ],
   "source": [
    "np.quantile (array, 0.25)"
   ]
  },
  {
   "cell_type": "code",
   "execution_count": 144,
   "id": "6db154f4",
   "metadata": {},
   "outputs": [
    {
     "data": {
      "text/plain": [
       "70.0"
      ]
     },
     "execution_count": 144,
     "metadata": {},
     "output_type": "execute_result"
    }
   ],
   "source": [
    "np.quantile (array, 0.5)"
   ]
  },
  {
   "cell_type": "code",
   "execution_count": 145,
   "id": "145d6fc7",
   "metadata": {},
   "outputs": [
    {
     "data": {
      "text/plain": [
       "344"
      ]
     },
     "execution_count": 145,
     "metadata": {},
     "output_type": "execute_result"
    }
   ],
   "source": [
    "array[0].sum()"
   ]
  },
  {
   "cell_type": "code",
   "execution_count": 146,
   "id": "7bab5cc1",
   "metadata": {},
   "outputs": [
    {
     "data": {
      "text/plain": [
       "326"
      ]
     },
     "execution_count": 146,
     "metadata": {},
     "output_type": "execute_result"
    }
   ],
   "source": [
    "# Performing Aggregation Operation on the Row or Column \n",
    "array [:,4].sum()"
   ]
  },
  {
   "cell_type": "markdown",
   "id": "010914d9",
   "metadata": {},
   "source": [
    "# Axis = 0 means Column and Axis = 1 means Row "
   ]
  },
  {
   "cell_type": "code",
   "execution_count": 147,
   "id": "706ce992",
   "metadata": {},
   "outputs": [
    {
     "data": {
      "text/plain": [
       "array([226, 288, 231, 245, 326])"
      ]
     },
     "execution_count": 147,
     "metadata": {},
     "output_type": "execute_result"
    }
   ],
   "source": [
    "array.sum (axis = 0)"
   ]
  },
  {
   "cell_type": "code",
   "execution_count": 148,
   "id": "7c427613",
   "metadata": {},
   "outputs": [
    {
     "data": {
      "text/plain": [
       "array([344, 279, 329, 364])"
      ]
     },
     "execution_count": 148,
     "metadata": {},
     "output_type": "execute_result"
    }
   ],
   "source": [
    "array.sum (axis = 1)"
   ]
  },
  {
   "cell_type": "code",
   "execution_count": 149,
   "id": "da88bb41",
   "metadata": {},
   "outputs": [
    {
     "data": {
      "text/plain": [
       "array([56.5 , 72.  , 57.75, 61.25, 81.5 ])"
      ]
     },
     "execution_count": 149,
     "metadata": {},
     "output_type": "execute_result"
    }
   ],
   "source": [
    "array.mean(axis = 0)"
   ]
  },
  {
   "cell_type": "markdown",
   "id": "9a73f1bc",
   "metadata": {},
   "source": [
    "# Aggregations Functions "
   ]
  },
  {
   "cell_type": "markdown",
   "id": "91b17611",
   "metadata": {},
   "source": [
    "# 1)Sum # 2)Count # 3)min # 4)max \n",
    "# 5)std.s --> Standard Deviation Sample \n",
    "# 6)std.p --> Standard Deviation Populations \n",
    "# 7)var.p --> Variance Sample \n",
    "# 8)var.s --> Variance Population \n",
    "# 9)Percentage # 10)Percentile # 11)Average "
   ]
  },
  {
   "cell_type": "code",
   "execution_count": 152,
   "id": "2c0f8418",
   "metadata": {},
   "outputs": [
    {
     "data": {
      "text/plain": [
       "array([68.8, 55.8, 65.8, 72.8])"
      ]
     },
     "execution_count": 152,
     "metadata": {},
     "output_type": "execute_result"
    }
   ],
   "source": [
    "array.mean(axis = 1)"
   ]
  },
  {
   "cell_type": "markdown",
   "id": "c45a9d15",
   "metadata": {},
   "source": [
    "# Matrix Addition "
   ]
  },
  {
   "cell_type": "code",
   "execution_count": 153,
   "id": "b833420e",
   "metadata": {},
   "outputs": [
    {
     "data": {
      "text/plain": [
       "array([[81, 87, 90, 13, 73],\n",
       "       [18, 69, 30, 66, 96],\n",
       "       [56, 86, 49, 74, 64],\n",
       "       [71, 46, 62, 92, 93]])"
      ]
     },
     "execution_count": 153,
     "metadata": {},
     "output_type": "execute_result"
    }
   ],
   "source": [
    "array "
   ]
  },
  {
   "cell_type": "code",
   "execution_count": 154,
   "id": "5d31c09b",
   "metadata": {},
   "outputs": [
    {
     "data": {
      "text/plain": [
       "array([[2, 6, 3, 5, 8],\n",
       "       [2, 7, 8, 3, 5],\n",
       "       [2, 4, 2, 3, 8],\n",
       "       [1, 8, 6, 8, 6]])"
      ]
     },
     "execution_count": 154,
     "metadata": {},
     "output_type": "execute_result"
    }
   ],
   "source": [
    "array2 = np.random.randint(1,10,(4,5))\n",
    "array2"
   ]
  },
  {
   "cell_type": "code",
   "execution_count": 156,
   "id": "07bf7331",
   "metadata": {},
   "outputs": [
    {
     "data": {
      "text/plain": [
       "array([[ 83,  93,  93,  18,  81],\n",
       "       [ 20,  76,  38,  69, 101],\n",
       "       [ 58,  90,  51,  77,  72],\n",
       "       [ 72,  54,  68, 100,  99]])"
      ]
     },
     "execution_count": 156,
     "metadata": {},
     "output_type": "execute_result"
    }
   ],
   "source": [
    "array + array2\n",
    "#Concatination"
   ]
  },
  {
   "cell_type": "markdown",
   "id": "fec41e8e",
   "metadata": {},
   "source": [
    "# Matrix Multification "
   ]
  },
  {
   "cell_type": "code",
   "execution_count": 157,
   "id": "c7ccaaa4",
   "metadata": {},
   "outputs": [
    {
     "data": {
      "text/plain": [
       "matrix([[3, 1, 6, 1],\n",
       "        [5, 1, 1, 9],\n",
       "        [3, 5, 4, 9]])"
      ]
     },
     "execution_count": 157,
     "metadata": {},
     "output_type": "execute_result"
    }
   ],
   "source": [
    "a = np.matrix(np.random.randint (1,10,(3,4)))\n",
    "a"
   ]
  },
  {
   "cell_type": "code",
   "execution_count": 158,
   "id": "68e37aab",
   "metadata": {},
   "outputs": [
    {
     "data": {
      "text/plain": [
       "matrix([[1, 3, 2],\n",
       "        [5, 7, 4],\n",
       "        [8, 1, 3],\n",
       "        [8, 1, 5]])"
      ]
     },
     "execution_count": 158,
     "metadata": {},
     "output_type": "execute_result"
    }
   ],
   "source": [
    "b = np.matrix(np.random.randint (1,10,(4,3)))\n",
    "b"
   ]
  },
  {
   "cell_type": "code",
   "execution_count": 159,
   "id": "b268c81c",
   "metadata": {},
   "outputs": [
    {
     "data": {
      "text/plain": [
       "matrix([[ 64,  23,  33],\n",
       "        [ 90,  32,  62],\n",
       "        [132,  57,  83]])"
      ]
     },
     "execution_count": 159,
     "metadata": {},
     "output_type": "execute_result"
    }
   ],
   "source": [
    "a*b"
   ]
  },
  {
   "cell_type": "markdown",
   "id": "4594904a",
   "metadata": {},
   "source": [
    "# Advantages of the Arrays:\n",
    "#1) Arrays are very faster than lists.\n",
    "#2) Arrays consumes lesser memory than lists\n",
    "\n",
    "# Advantages of the List:\n",
    "#1) Lists are Heterogenous \n",
    "#2) List can be easily modify.."
   ]
  },
  {
   "cell_type": "markdown",
   "id": "623f73b7",
   "metadata": {},
   "source": [
    "# Splitting of the Arrays "
   ]
  },
  {
   "cell_type": "code",
   "execution_count": 160,
   "id": "423d912f",
   "metadata": {},
   "outputs": [
    {
     "data": {
      "text/plain": [
       "array([[4, 5, 6, 7, 6],\n",
       "       [8, 5, 6, 7, 1],\n",
       "       [8, 7, 7, 5, 6],\n",
       "       [1, 3, 3, 6, 1]])"
      ]
     },
     "execution_count": 160,
     "metadata": {},
     "output_type": "execute_result"
    }
   ],
   "source": [
    "a = np.random.randint(1,10,(4,5))\n",
    "a"
   ]
  },
  {
   "cell_type": "code",
   "execution_count": 161,
   "id": "09edd4b6",
   "metadata": {},
   "outputs": [
    {
     "data": {
      "text/plain": [
       "[array([[4, 5, 6, 7, 6]]),\n",
       " array([[8, 5, 6, 7, 1]]),\n",
       " array([[8, 7, 7, 5, 6]]),\n",
       " array([[1, 3, 3, 6, 1]])]"
      ]
     },
     "execution_count": 161,
     "metadata": {},
     "output_type": "execute_result"
    }
   ],
   "source": [
    "# Splitting the Array or Matrix by Rows \n",
    "np.vsplit(a,4)"
   ]
  },
  {
   "cell_type": "code",
   "execution_count": 162,
   "id": "db36d3b2",
   "metadata": {},
   "outputs": [
    {
     "data": {
      "text/plain": [
       "[array([[4],\n",
       "        [8],\n",
       "        [8],\n",
       "        [1]]),\n",
       " array([[5],\n",
       "        [5],\n",
       "        [7],\n",
       "        [3]]),\n",
       " array([[6],\n",
       "        [6],\n",
       "        [7],\n",
       "        [3]]),\n",
       " array([[7],\n",
       "        [7],\n",
       "        [5],\n",
       "        [6]]),\n",
       " array([[6],\n",
       "        [1],\n",
       "        [6],\n",
       "        [1]])]"
      ]
     },
     "execution_count": 162,
     "metadata": {},
     "output_type": "execute_result"
    }
   ],
   "source": [
    "# Splitting of the Array or Matrix by Columns \n",
    "np.hsplit(a,5)"
   ]
  },
  {
   "cell_type": "markdown",
   "id": "fafb0a52",
   "metadata": {},
   "source": [
    "# Concatination and Stacking "
   ]
  },
  {
   "cell_type": "markdown",
   "id": "9fa5e757",
   "metadata": {},
   "source": [
    "# Concatination and Stacking "
   ]
  },
  {
   "cell_type": "code",
   "execution_count": 163,
   "id": "8221c776",
   "metadata": {},
   "outputs": [
    {
     "data": {
      "text/plain": [
       "matrix([[1, 2],\n",
       "        [3, 4]])"
      ]
     },
     "execution_count": 163,
     "metadata": {},
     "output_type": "execute_result"
    }
   ],
   "source": [
    "a = np.matrix([[1,2],[3,4]])\n",
    "a"
   ]
  },
  {
   "cell_type": "code",
   "execution_count": 164,
   "id": "8b42ac70",
   "metadata": {},
   "outputs": [
    {
     "data": {
      "text/plain": [
       "matrix([[5, 6]])"
      ]
     },
     "execution_count": 164,
     "metadata": {},
     "output_type": "execute_result"
    }
   ],
   "source": [
    "b = np.matrix([[5,6]])\n",
    "b"
   ]
  },
  {
   "cell_type": "code",
   "execution_count": 165,
   "id": "049f6e0b",
   "metadata": {},
   "outputs": [
    {
     "data": {
      "text/plain": [
       "matrix([[1, 2],\n",
       "        [3, 4],\n",
       "        [5, 6]])"
      ]
     },
     "execution_count": 165,
     "metadata": {},
     "output_type": "execute_result"
    }
   ],
   "source": [
    "# Concatenating the a & b Matrixes \n",
    "np.concatenate((a,b))"
   ]
  },
  {
   "cell_type": "code",
   "execution_count": 166,
   "id": "4ad08062",
   "metadata": {},
   "outputs": [
    {
     "data": {
      "text/plain": [
       "matrix([[1, 2, 5],\n",
       "        [3, 4, 6]])"
      ]
     },
     "execution_count": 166,
     "metadata": {},
     "output_type": "execute_result"
    }
   ],
   "source": [
    "# Transposing of the Matrix and Concatenating \n",
    "np.concatenate((a,b.T), axis = 1)"
   ]
  },
  {
   "cell_type": "markdown",
   "id": "d1ae99b2",
   "metadata": {},
   "source": [
    "# Note : In Concatenation, Axis = 0 means Rows and Axis = 1 means Columns "
   ]
  },
  {
   "cell_type": "code",
   "execution_count": null,
   "id": "3e1c6ac8",
   "metadata": {},
   "outputs": [],
   "source": []
  }
 ],
 "metadata": {
  "kernelspec": {
   "display_name": "Python 3 (ipykernel)",
   "language": "python",
   "name": "python3"
  },
  "language_info": {
   "codemirror_mode": {
    "name": "ipython",
    "version": 3
   },
   "file_extension": ".py",
   "mimetype": "text/x-python",
   "name": "python",
   "nbconvert_exporter": "python",
   "pygments_lexer": "ipython3",
   "version": "3.9.12"
  }
 },
 "nbformat": 4,
 "nbformat_minor": 5
}
